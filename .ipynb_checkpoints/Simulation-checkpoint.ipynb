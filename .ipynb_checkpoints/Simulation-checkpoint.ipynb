{
 "cells": [
  {
   "cell_type": "code",
   "execution_count": 1,
   "id": "879f0f76",
   "metadata": {
    "ExecuteTime": {
     "end_time": "2022-03-24T20:57:28.881613Z",
     "start_time": "2022-03-24T20:57:27.888994Z"
    }
   },
   "outputs": [],
   "source": [
    "# when you change the code of .py document in the ecolab package, you have to restart the kernel of jupyter notebook and \n",
    "# run the below import code again to make sure the newest change involved.\n",
    "\n",
    "import numpy as np\n",
    "import numba\n",
    "from ecolab import run_ecolab\n",
    "from ecolab.environment import Environment\n",
    "from ecolab.agents import Rabbit, RHD_Status\n",
    "import warnings\n",
    "warnings.filterwarnings(\"ignore\")\n",
    "\n",
    "\n",
    "import matplotlib\n",
    "import matplotlib.pyplot as plt\n",
    "\n",
    "\n"
   ]
  },
  {
   "cell_type": "code",
   "execution_count": 20,
   "id": "b46faa0d",
   "metadata": {
    "ExecuteTime": {
     "end_time": "2022-03-24T20:57:28.904613Z",
     "start_time": "2022-03-24T20:57:28.882761Z"
    }
   },
   "outputs": [],
   "source": [
    "# create the environment\n",
    "env = Environment(shape = [10,10])\n",
    "\n",
    "#create agents(infants and adults)\n",
    "Ninfants = 10\n",
    "Nadults = 300\n",
    "Infected_Adults = 10\n",
    "agents = []\n",
    "\n",
    "for i in range(Ninfants):\n",
    "    infant = Rabbit(age = np.random.randint(0,90), position = env.get_random_location()) ## age < 90 => infants\n",
    "    agents.append(infant)\n",
    "for i in range(Nadults):\n",
    "    adult = Rabbit(age = np.random.randint(90,300), position = env.get_random_location())\n",
    "    agents.append(adult)\n",
    "for i in range(Infected_Adults):\n",
    "    infected_adult = Rabbit(age = np.random.randint(90,300), position = env.get_random_location(), infected=True)   \n",
    "    agents.append(infected_adult)\n"
   ]
  },
  {
   "cell_type": "code",
   "execution_count": 21,
   "id": "d936539f",
   "metadata": {
    "ExecuteTime": {
     "end_time": "2022-03-24T20:58:19.977872Z",
     "start_time": "2022-03-24T20:57:29.143895Z"
    },
    "scrolled": true
   },
   "outputs": [
    {
     "name": "stdout",
     "output_type": "stream",
     "text": [
      "The running time of experiment: 365 seconds.\n"
     ]
    }
   ],
   "source": [
    "record, sus_num, infected_num, immune_num, total, infant_num, agents = run_ecolab(env, agents, \n",
    "                                                                                  Niteration=[0, 365], \n",
    "                                                                                  max_density=20)"
   ]
  },
  {
   "cell_type": "code",
   "execution_count": 4,
   "id": "cf0d9ffb",
   "metadata": {},
   "outputs": [],
   "source": [
    "# for i in range(100):\n",
    "#     infected_adult = Rabbit(age = np.random.randint(90,300), position = env.get_random_location(), infected=True)   \n",
    "#     agents.append(infected_adult)\n",
    "\n",
    "# # The start time must be consistent with the last end time\n",
    "# record, sus, infected, immune, total, infant, agents = run_ecolab(env, agents, Niteration=[250, 300],sus=sus,infected=infected, immune=immune, total=total, infant=infant)\n"
   ]
  },
  {
   "cell_type": "code",
   "execution_count": 19,
   "id": "459abb98",
   "metadata": {
    "ExecuteTime": {
     "end_time": "2022-03-24T20:58:20.142550Z",
     "start_time": "2022-03-24T20:58:19.979013Z"
    },
    "scrolled": true
   },
   "outputs": [
    {
     "data": {
      "image/png": "[encoded data removed]",
      "text/plain": [
       "<Figure size 432x288 with 1 Axes>"
      ]
     },
     "metadata": {
      "needs_background": "light"
     },
     "output_type": "display_data"
    }
   ],
   "source": [
    "%matplotlib inline\n",
    "\n",
    "fig, ax = plt.subplots()\n",
    "ax.plot(total, label='Total')\n",
    "ax.plot(immune_num, label='Immune')\n",
    "ax.plot(sus_num, label='Susceptible')\n",
    "ax.plot(infant_num, label='Infants')\n",
    "ax.plot(infected_num, label='Infected')\n",
    "#ax.plot(male, label='Male')\n",
    "#ax.plot(female, label='Female')\n",
    "\n",
    "\n",
    "leg = ax.legend();"
   ]
  },
  {
   "cell_type": "code",
   "execution_count": 6,
   "id": "18b1a598",
   "metadata": {
    "ExecuteTime": {
     "end_time": "2022-03-24T20:54:17.618388Z",
     "start_time": "2022-03-24T20:54:17.603279Z"
    }
   },
   "outputs": [],
   "source": [
    "def draw_animation(fig,record,fps=20,saveto=None):\n",
    "    \"\"\"\n",
    "    Draw the animation for the content of record. This doesn't use the draw\n",
    "    functions of the classes.\n",
    "    - fig figure to draw to\n",
    "    - record = the data to draw\n",
    "    - fps = frames per second\n",
    "    - saveto = where to save it to\n",
    "    \"\"\"\n",
    "    #rc('animation', html='html5')\n",
    "    if len(record)==0: return None\n",
    "\n",
    "    im = plt.imshow(np.zeros_like(sus), interpolation='none', aspect='auto', vmin=0, vmax=3, cmap='gray')\n",
    "    ax = plt.gca()\n",
    "\n",
    "    infectedplot = ax.plot(np.zeros(1),np.zeros(1),'bo',markersize=10)\n",
    "    immuneplot = ax.plot(np.zeros(1),np.zeros(1),'yx',markersize=10,mew=3)\n",
    "\n",
    "    def animate_func(i):\n",
    "            im.set_array(sus)\n",
    "            ags = sus\n",
    "            if len(ags)==0:\n",
    "                immuneplot[0].set_data([],[])\n",
    "                infectedplot[0].set_data([],[])\n",
    "                return\n",
    "            coords = ags[ags[:,-1].astype(bool),0:2]\n",
    "            immuneplot[0].set_data(coords[:,1],coords[:,0])\n",
    "            coords = ags[~ags[:,-1].astype(bool),0:2]\n",
    "            infectedplot[0].set_data(coords[:,1],coords[:,0])\n",
    "            #return [im]#,rabbits,foxes]\n",
    "\n",
    "    anim = animation.FuncAnimation(\n",
    "                                   fig, \n",
    "                                   animate_func, \n",
    "                                   frames = len(record),\n",
    "                                   interval = 1000 / fps, repeat=False # in ms\n",
    "                                   )\n",
    "    if saveto is not None: anim.save(saveto, fps=fps, extra_args=['-vcodec', 'libx264']) \n",
    "    from IPython.display import HTML\n",
    "    return HTML(anim.to_jshtml())"
   ]
  },
  {
   "cell_type": "code",
   "execution_count": 7,
   "id": "dede2f61",
   "metadata": {
    "ExecuteTime": {
     "end_time": "2022-03-24T20:54:18.797807Z",
     "start_time": "2022-03-24T20:54:18.753598Z"
    },
    "scrolled": true
   },
   "outputs": [],
   "source": [
    "# %matplotlib notebook \n",
    "# fig1 = plt.figure( figsize=(8,8) )\n",
    "# draw_animation(fig1, record[::5],5,saveto='test_anim.mp4') #draw every 5th frame"
   ]
  },
  {
   "cell_type": "code",
   "execution_count": 8,
   "id": "e57b5dba",
   "metadata": {},
   "outputs": [
    {
     "data": {
      "text/plain": [
       "array([0, 3])"
      ]
     },
     "execution_count": 8,
     "metadata": {},
     "output_type": "execute_result"
    }
   ],
   "source": [
    "rabbit2 = Rabbit(age = np.random.randint(90,300), position = env.get_random_location())\n",
    "rabbit3 = Rabbit(age = np.random.randint(0,90), position = env.get_random_location())\n",
    "test=[]\n",
    "test.append(rabbit2)\n",
    "test.append(rabbit3)\n",
    "test[0].position"
   ]
  },
  {
   "cell_type": "code",
   "execution_count": 9,
   "id": "7c7690a8",
   "metadata": {},
   "outputs": [],
   "source": [
    "test2 = test\n",
    "test2[0].age = 10"
   ]
  },
  {
   "cell_type": "code",
   "execution_count": 10,
   "id": "8980c3eb",
   "metadata": {},
   "outputs": [],
   "source": [
    "rabbit2.move(env)"
   ]
  },
  {
   "cell_type": "code",
   "execution_count": 11,
   "id": "247e9f95",
   "metadata": {},
   "outputs": [
    {
     "data": {
      "text/plain": [
       "array([0, 3])"
      ]
     },
     "execution_count": 11,
     "metadata": {},
     "output_type": "execute_result"
    }
   ],
   "source": [
    "test[0].position"
   ]
  },
  {
   "cell_type": "code",
   "execution_count": 12,
   "id": "631b1042",
   "metadata": {},
   "outputs": [
    {
     "data": {
      "text/plain": [
       "array([0, 3])"
      ]
     },
     "execution_count": 12,
     "metadata": {},
     "output_type": "execute_result"
    }
   ],
   "source": [
    "rabbit2.position"
   ]
  },
  {
   "cell_type": "code",
   "execution_count": 13,
   "id": "62ec0674",
   "metadata": {},
   "outputs": [],
   "source": [
    "def func1(agents):\n",
    "    agents.append(Rabbit(age = np.random.randint(90,300), position = env.get_random_location()))"
   ]
  },
  {
   "cell_type": "code",
   "execution_count": 14,
   "id": "e985f7a0",
   "metadata": {},
   "outputs": [],
   "source": [
    "func1(test)"
   ]
  },
  {
   "cell_type": "code",
   "execution_count": 15,
   "id": "ede3424d",
   "metadata": {},
   "outputs": [
    {
     "data": {
      "text/plain": [
       "[<ecolab.agents.Rabbit at 0x7f8301b7f8b0>,\n",
       " <ecolab.agents.Rabbit at 0x7f8301b7f520>,\n",
       " <ecolab.agents.Rabbit at 0x7f8301b7f850>]"
      ]
     },
     "execution_count": 15,
     "metadata": {},
     "output_type": "execute_result"
    }
   ],
   "source": [
    "test"
   ]
  }
 ],
 "metadata": {
  "kernelspec": {
   "display_name": "Python 3 (ipykernel)",
   "language": "python",
   "name": "python3"
  },
  "language_info": {
   "codemirror_mode": {
    "name": "ipython",
    "version": 3
   },
   "file_extension": ".py",
   "mimetype": "text/x-python",
   "name": "python",
   "nbconvert_exporter": "python",
   "pygments_lexer": "ipython3",
   "version": "3.9.7"
  }
 },
 "nbformat": 4,
 "nbformat_minor": 5
}
