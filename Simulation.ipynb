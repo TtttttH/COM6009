{
 "cells": [
  {
   "cell_type": "code",
   "execution_count": 1,
   "id": "879f0f76",
   "metadata": {
    "ExecuteTime": {
     "end_time": "2022-03-24T20:57:28.881613Z",
     "start_time": "2022-03-24T20:57:27.888994Z"
    }
   },
   "outputs": [],
   "source": [
    "# when you change the code of .py document in the ecolab package, you have to restart the kernel of jupyter notebook and \n",
    "# run the below import code again to make sure the newest change involved.\n",
    "\n",
    "import numpy as np\n",
    "import numba\n",
    "from ecolab import run_ecolab\n",
    "from ecolab.environment import Environment\n",
    "from ecolab.agents import Rabbit, RHD_Status\n",
    "import warnings\n",
    "warnings.filterwarnings(\"ignore\")\n",
    "from math import sqrt\n",
    "import matplotlib\n",
    "import matplotlib.pyplot as plt"
   ]
  },
  {
   "cell_type": "code",
   "execution_count": 2,
   "id": "ac7bc99c",
   "metadata": {
    "ExecuteTime": {
     "end_time": "2022-03-24T20:57:28.904613Z",
     "start_time": "2022-03-24T20:57:28.882761Z"
    }
   },
   "outputs": [],
   "source": [
    "# create the environment\n",
    "env = Environment(shape = [10,10])"
   ]
  },
  {
   "cell_type": "code",
   "execution_count": 3,
   "id": "752bc30c",
   "metadata": {},
   "outputs": [],
   "source": [
    "def generate_agents(Total_agents = 100, prop_infants=0.1, prop_adults = 0.9, prop_infected = 0.1):\n",
    "    ''' A function to output agents based on user defined variables\n",
    "    Total_agents - Total number of agents\n",
    "    prop_infants - Proportion of infants based on total agents\n",
    "    prop_adults - Proportion of adults based on total agents\n",
    "    prop_infected - Proportion of infected adults based on total number of adults\n",
    "    Output: a list of agents'''\n",
    "    \n",
    "    N_infants = round(prop_infants*Total_agents)\n",
    "    N_sus_adults = round(prop_adults*(Total_agents-N_infants))\n",
    "    N_infected_adults = round(prop_infected*prop_adults*Total_agents)\n",
    "    agents = []\n",
    "    \n",
    "    for i in range(N_infants):\n",
    "        infant = Rabbit(age = np.random.randint(0,90), position = env.get_random_location()) ## age < 90 => infants\n",
    "        agents.append(infant)\n",
    "    for i in range(N_sus_adults):\n",
    "        adult = Rabbit(age = np.random.randint(90,300), position = env.get_random_location())\n",
    "        agents.append(adult)\n",
    "    for i in range(N_infected_adults):\n",
    "        infected_adult = Rabbit(age = np.random.randint(90,300), position = env.get_random_location(), infected=True)\n",
    "        agents.append(infected_adult)\n",
    "        \n",
    "    return agents"
   ]
  },
  {
   "cell_type": "code",
   "execution_count": 10,
   "id": "0298ab7a",
   "metadata": {},
   "outputs": [],
   "source": [
    "def batch_simulation(Total_agents=100, prop_infants=0.1, prop_adults=0.9, prop_infected=0.1, num_model_runs=10):\n",
    "    ''' A function to run the ecolab simulation several times to account for stochasticity\n",
    "    It outputs the mean, standard deviation, and confidence interval of the proportion of infected rabbits '''\n",
    "    \n",
    "    batch_mean_infected = []\n",
    "    \n",
    "    for i in range(num_model_runs):\n",
    "        agents = generate_agents(Total_agents=Total_agents, prop_infants=prop_infants,prop_adults=prop_adults,prop_infected=prop_infected)\n",
    "        sus, infected, immune, total, infant, agents = run_ecolab(env, agents, Niteration=[0, 365], max_density = 10)\n",
    "        batch_prop_infected = np.divide(infected, total)\n",
    "        batch_mean_infected.append(batch_prop_infected)\n",
    "        \n",
    "    mean_infected = np.mean(batch_mean_infected)\n",
    "    stdev_infected = np.std(batch_mean_infected)\n",
    "    ci_infected = 1.96 * stdev_infected / sqrt(len(batch_mean_infected))\n",
    "    \n",
    "    return batch_mean_infected, mean_infected, stdev_infected, ci_infected"
   ]
  },
  {
   "cell_type": "code",
   "execution_count": 11,
   "id": "4d6e5a45",
   "metadata": {},
   "outputs": [
    {
     "name": "stdout",
     "output_type": "stream",
     "text": [
      "The mean proportion of infected rabbits under an initialised population of 300 is: 0.0348\n",
      "The standard deviation is: 0.0559\n",
      "It follows that the 95% confidence intervals are: 0.0002 and 0.0695\n"
     ]
    }
   ],
   "source": [
    "batch_mean_infected_25, mean_infected_25, stdev_infected_25, ci_infected_25 = batch_simulation(Total_agents = 25, prop_infants=0.1, prop_adults = 0.9, prop_infected = 0.1, num_model_runs = 10)\n",
    "lower_25, upper_25 = mean_infected_25-ci_infected_25, mean_infected_25+ci_infected_25\n",
    "print(f'The mean proportion of infected rabbits under an initialised population of 300 is: {mean_infected_25:.4f}')\n",
    "print(f'The standard deviation is: {stdev_infected_25:.4f}')\n",
    "print(f'It follows that the 95% confidence intervals are: {lower_25:.4f} and {upper_25:.4f}')"
   ]
  },
  {
   "cell_type": "code",
   "execution_count": 12,
   "id": "acaf112e",
   "metadata": {},
   "outputs": [
    {
     "name": "stdout",
     "output_type": "stream",
     "text": [
      "The mean proportion of infected rabbits under an initialised population of 50 is: 0.0436\n",
      "The standard deviation is: 0.0800\n",
      "It follows that the 95% confidence intervals are: -0.0060 and 0.0932\n"
     ]
    }
   ],
   "source": [
    "batch_mean_infected_50, mean_infected_50, stdev_infected_50, ci_infected_50 = batch_simulation(Total_agents = 50, prop_infants=0.1, prop_adults = 0.9, prop_infected = 0.1, num_model_runs = 10)\n",
    "lower_50, upper_50 = mean_infected_50-ci_infected_50, mean_infected_50+ci_infected_50\n",
    "print(f'The mean proportion of infected rabbits under an initialised population of 50 is: {mean_infected_50:.4f}')\n",
    "print(f'The standard deviation is: {stdev_infected_50:.4f}')\n",
    "print(f'It follows that the 95% confidence intervals are: {lower_50:.4f} and {upper_50:.4f}')"
   ]
  },
  {
   "cell_type": "code",
   "execution_count": 13,
   "id": "949922a4",
   "metadata": {},
   "outputs": [
    {
     "name": "stdout",
     "output_type": "stream",
     "text": [
      "The mean proportion of infected rabbits under an initialised population of 100 is: 0.0481\n",
      "The standard deviation is: 0.1002\n",
      "It follows that the 95% confidence intervals are: -0.0140 and 0.1103\n"
     ]
    }
   ],
   "source": [
    "batch_mean_infected_100, mean_infected_100, stdev_infected_100, ci_infected_100 = batch_simulation(Total_agents = 100, prop_infants=0.1, prop_adults = 0.9, prop_infected = 0.1, num_model_runs = 10)\n",
    "lower_100, upper_100 = mean_infected_100-ci_infected_100, mean_infected_100+ci_infected_100\n",
    "print(f'The mean proportion of infected rabbits under an initialised population of 100 is: {mean_infected_100:.4f}')\n",
    "print(f'The standard deviation is: {stdev_infected_100:.4f}')\n",
    "print(f'It follows that the 95% confidence intervals are: {lower_100:.4f} and {upper_100:.4f}')"
   ]
  },
  {
   "cell_type": "code",
   "execution_count": null,
   "id": "a81ee3da",
   "metadata": {},
   "outputs": [],
   "source": [
    "batch_mean_infected_200, mean_infected_200, stdev_infected_200, ci_infected_200 = batch_simulation(Total_agents = 200, prop_infants=0.1, prop_adults = 0.9, prop_infected = 0.1, num_model_runs = 10)\n",
    "lower_200, upper_200 = mean_infected_200-ci_infected_200, mean_infected_200+ci_infected_200\n",
    "print(f'The mean proportion of infected rabbits under an initialised population of 200 is: {mean_infected_200:.4f}')\n",
    "print(f'The standard deviation is: {stdev_infected_200:.4f}')\n",
    "print(f'It follows that the 95% confidence intervals are: {lower_200:.4f} and {upper_200:.4f}')"
   ]
  },
  {
   "cell_type": "markdown",
   "id": "971494c3",
   "metadata": {},
   "source": [
    "We should look to test whether the means under the different initial populations are statistically equal to each other\n",
    "\n",
    "H_0: The two sample means are equal\n",
    "\n",
    "H_a: The two sample means are not equal"
   ]
  },
  {
   "cell_type": "code",
   "execution_count": null,
   "id": "627ecae8",
   "metadata": {},
   "outputs": [],
   "source": [
    "import scipy.stats as stats\n",
    "t, p = stats.ttest_ind_from_stats(mean_infected_25, stdev_infected_25, 10, mean_infected_50, stdev_infected_50, 10, equal_var=False)\n",
    "t, p"
   ]
  },
  {
   "cell_type": "markdown",
   "id": "cca7b069",
   "metadata": {},
   "source": [
    "The p-value is greater than alpha of 0.05 (95% confidence) therefore we fail to reject the null hypothesis. There is no sufficient evidence to conclude that at initial populations of 50 and 100, their proportions of infected rabbits are different"
   ]
  },
  {
   "cell_type": "code",
   "execution_count": null,
   "id": "5dcac2c4",
   "metadata": {},
   "outputs": [],
   "source": [
    "t1,p1 = stats.ttest_ind_from_stats(mean_infected_50, stdev_infected_50, 10, mean_infected_100, stdev_infected_100, 10, equal_var=False)\n",
    "t1,p1"
   ]
  },
  {
   "cell_type": "markdown",
   "id": "32ba3f78",
   "metadata": {},
   "source": [
    "t2,p2 = stats.ttest_ind_from_stats(mean_infected_100, stdev_infected_100, 10, mean_infected_200, stdev_infected_200, 10, equal_var=False)\n",
    "t2,p2"
   ]
  },
  {
   "cell_type": "code",
   "execution_count": 7,
   "id": "c6338947",
   "metadata": {},
   "outputs": [],
   "source": [
    "fig = plt.figure()\n",
    "ax = fig.add_axes([0,0,1,1])\n",
    "pop_size_list = [25,50,100,200]\n",
    "yer1 = [ci_infected_25, ci_infected_50, ci_infected_100, ci_infected_200]\n",
    "prop_infected_rabbits = [mean_infected_25,mean_infected_50,mean_infected_100,mean_infected_200]\n",
    "plt.bar(r1, bars1, width = barWidth, color = 'blue', edgecolor = 'black', yerr=yer1\n",
    "ax.set_xlabel('Initial Population Size')\n",
    "ax.set_ylabel('Proportion of Infected Rabbits')\n",
    "plt.show()"
   ]
  },
  {
   "cell_type": "code",
   "execution_count": null,
   "id": "862be84e",
   "metadata": {},
   "outputs": [],
   "source": [
    "import seaborn as sns\n",
    "sns.boxplot(x=[25,50,100,200], y=[batch_mean_infected_25,batch_mean_infected_50,batch_mean_infected_100,batch_mean_infected_200] )"
   ]
  },
  {
   "cell_type": "code",
   "execution_count": 8,
   "id": "1f858f2b",
   "metadata": {},
   "outputs": [],
   "source": [
    "sus, infected, immune, total, infant, agents = run_ecolab(env, agents_sample, Niteration=[0, 365], max_density = 10)"
   ]
  },
  {
   "cell_type": "code",
   "execution_count": 9,
   "id": "459abb98",
   "metadata": {
    "ExecuteTime": {
     "end_time": "2022-03-24T20:58:20.142550Z",
     "start_time": "2022-03-24T20:58:19.979013Z"
    },
    "scrolled": true
   },
   "outputs": [
    {
     "data": {
      "image/png": "[encoded data removed]",
      "text/plain": [
       "<Figure size 432x288 with 1 Axes>"
      ]
     },
     "metadata": {
      "needs_background": "light"
     },
     "output_type": "display_data"
    }
   ],
   "source": [
    "%matplotlib inline\n",
    "\n",
    "fig, ax = plt.subplots()\n",
    "ax.plot(total, label='Total')\n",
    "ax.plot(immune, label='Immune')\n",
    "ax.plot(sus, label='Susceptible')\n",
    "ax.plot(infected, label='Infected')\n",
    "plt.xlabel('Day')\n",
    "plt.ylabel('Number of Rabbits')\n",
    "\n",
    "leg = ax.legend();"
   ]
  },
  {
   "cell_type": "code",
   "execution_count": null,
   "id": "18b1a598",
   "metadata": {
    "ExecuteTime": {
     "end_time": "2022-03-24T20:54:17.618388Z",
     "start_time": "2022-03-24T20:54:17.603279Z"
    }
   },
   "outputs": [],
   "source": [
    "#def draw_animation(fig,record,fps=20,saveto=None):\n",
    "    \"\"\"\n",
    "    Draw the animation for the content of record. This doesn't use the draw\n",
    "    functions of the classes.\n",
    "    - fig figure to draw to\n",
    "    - record = the data to draw\n",
    "    - fps = frames per second\n",
    "    - saveto = where to save it to\n",
    "    \"\"\"\n",
    "    #rc('animation', html='html5')\n",
    "    if len(record)==0: return None\n",
    "\n",
    "    im = plt.imshow(np.zeros_like(record[0]['infected agents']), interpolation='none', aspect='auto', vmin=0, vmax=3, cmap='gray')\n",
    "    ax = plt.gca()\n",
    "\n",
    "    #foxesplot = ax.plot(np.zeros(1),np.zeros(1),'bo',markersize=10)\n",
    "    rabbitsplot = ax.plot(np.zeros(1),np.zeros(1),'yx',markersize=10,mew=3)\n",
    "\n",
    "    def animate_func(i):\n",
    "            im.set_array(record[i]['infected agents'])\n",
    "            ags = record[i]['total']\n",
    "            if len(ags)==0:\n",
    "                rabbitsplot[0].set_data([],[])\n",
    "                #foxesplot[0].set_data([],[])\n",
    "                return\n",
    "            coords = ags[ags[:,-1].astype(bool),0:2]\n",
    "            rabbitsplot[0].set_data(coords[:,1],coords[:,0])\n",
    "            #coords = ags[~ags[:,-1].astype(bool),0:2]\n",
    "            #foxesplot[0].set_data(coords[:,1],coords[:,0])\n",
    "            #return [im]#,rabbits,foxes]\n",
    "\n",
    "    anim = animation.FuncAnimation(\n",
    "                                   fig, \n",
    "                                   animate_func, \n",
    "                                   frames = len(record),\n",
    "                                   interval = 1000 / fps, repeat=False # in ms\n",
    "                                   )\n",
    "    if saveto is not None: anim.save(saveto, fps=fps, extra_args=['-vcodec', 'libx264']) \n",
    "    from IPython.display import HTML\n",
    "    return HTML(anim.to_jshtml())"
   ]
  },
  {
   "cell_type": "code",
   "execution_count": null,
   "id": "331f4435",
   "metadata": {},
   "outputs": [],
   "source": [
    "def batch_simulation2(Total_agents = 100, prop_infants=0.1, prop_adults = 0.9, prop_infected = 0.1, num_model_runs = 10):\n",
    "    N_infants = round(prop_infants*Total_agents)\n",
    "    N_sus_adults = round(prop_adults*(Total_agents-N_infants))\n",
    "    N_infected_adults = round(prop_infected*prop_adults*Total_agents)\n",
    "    agents = []\n",
    "    batch_mean_sus, batch_mean_infected, batch_mean_immune = [], [], []\n",
    "    batch_infant, batch_total = [], []\n",
    "    \n",
    "    for i in range(N_infants):\n",
    "        infant = Rabbit(age = np.random.randint(0,90), position = env.get_random_location()) ## age < 90 => infants\n",
    "        agents.append(infant)\n",
    "    for i in range(N_sus_adults):\n",
    "        adult = Rabbit(age = np.random.randint(90,300), position = env.get_random_location())\n",
    "        agents.append(adult)\n",
    "    for i in range(N_infected_adults):\n",
    "        infected_adult = Rabbit(age = np.random.randint(90,300), position = env.get_random_location(), infected=True)\n",
    "        agents.append(infected_adult)\n",
    "    \n",
    "    for i in range(num_model_runs):\n",
    "        sus, infected, immune, total, infant, agents = run_ecolab(env, agents, Niteration=[0, 365], max_density = 10)\n",
    "        batch_infant.append(infant)\n",
    "        batch_total.append(total)\n",
    "        batch_prop_sus, batch_prop_infected, batch_prop_immune = np.divide(sus, total), np.divide(infected, total), np.divide(immune, total)\n",
    "        batch_mean_sus.append(batch_prop_sus)\n",
    "        batch_mean_infected.append(batch_prop_infected)\n",
    "        batch_mean_immune.append(batch_prop_immune)\n",
    "        \n",
    "    mean_sus, mean_infected, mean_immune = np.mean(batch_mean_sus), np.mean(batch_mean_infected), np.mean(batch_mean_immune)\n",
    "    stdev_sus, stdev_infected, stdev_immune = np.std(batch_mean_sus), np.std(batch_mean_infected), np.std(batch_mean_immune)\n",
    "    ci_sus = 1.96 * stdev_sus / sqrt(len(batch_mean_sus))\n",
    "    ci_infected = 1.96 * stdev_infected / sqrt(len(batch_mean_infected))\n",
    "    ci_immune = 1.96 * stdev_immune / sqrt(len(batch_mean_immune))\n",
    "    \n",
    "    return batch_infant, batch_total, mean_sus, mean_infected, mean_immune, stdev_sus, stdev_infected, stdev_immune, ci_sus, ci_infected, ci_immune"
   ]
  }
 ],
 "metadata": {
  "kernelspec": {
   "display_name": "Python 3",
   "language": "python",
   "name": "python3"
  },
  "language_info": {
   "codemirror_mode": {
    "name": "ipython",
    "version": 3
   },
   "file_extension": ".py",
   "mimetype": "text/x-python",
   "name": "python",
   "nbconvert_exporter": "python",
   "pygments_lexer": "ipython3",
   "version": "3.8.8"
  }
 },
 "nbformat": 4,
 "nbformat_minor": 5
}
