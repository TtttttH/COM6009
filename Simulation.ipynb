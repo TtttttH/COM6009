{
 "cells": [
  {
   "cell_type": "code",
   "execution_count": 1,
   "id": "879f0f76",
   "metadata": {
    "ExecuteTime": {
     "end_time": "2022-03-24T20:57:28.881613Z",
     "start_time": "2022-03-24T20:57:27.888994Z"
    }
   },
   "outputs": [],
   "source": [
    "# when you change the code of .py document in the ecolab package, you have to restart the kernel of jupyter notebook and \n",
    "# run the below import code again to make sure the newest change involved.\n",
    "\n",
    "import numpy as np\n",
    "import numba\n",
    "from ecolab import run_ecolab\n",
    "from ecolab.environment import Environment\n",
    "from ecolab.agents import Rabbit, RHD_Status\n",
    "import warnings\n",
    "warnings.filterwarnings(\"ignore\")\n",
    "\n",
    "\n",
    "import matplotlib\n",
    "import matplotlib.pyplot as plt\n",
    "\n",
    "\n"
   ]
  },
  {
   "cell_type": "code",
   "execution_count": 2,
   "id": "ac7bc99c",
   "metadata": {
    "ExecuteTime": {
     "end_time": "2022-03-24T20:57:28.904613Z",
     "start_time": "2022-03-24T20:57:28.882761Z"
    }
   },
   "outputs": [],
   "source": [
    "# create the environment\n",
    "env = Environment(shape = [20,20])\n",
    "\n",
    "#create agents(infants and adults)\n",
    "Ninfants = 10\n",
    "Nadults = 200\n",
    "Infected_Adults = 40\n",
    "agents = []\n",
    "\n",
    "for i in range(Ninfants):\n",
    "    infant = Rabbit(age = np.random.randint(0,90), position = env.get_random_location()) ## age < 90 => infants\n",
    "    agents.append(infant)\n",
    "for i in range(Nadults):\n",
    "    adult = Rabbit(age = np.random.randint(90,300), position = env.get_random_location())\n",
    "    agents.append(adult)\n",
    "for i in range(Infected_Adults):\n",
    "    infected_adult = Rabbit(age = np.random.randint(90,300), position = env.get_random_location(), infected=True)   \n",
    "    agents.append(infected_adult)\n"
   ]
  },
  {
   "cell_type": "code",
   "execution_count": 3,
   "id": "d936539f",
   "metadata": {
    "ExecuteTime": {
     "end_time": "2022-03-24T20:58:19.977872Z",
     "start_time": "2022-03-24T20:57:29.143895Z"
    },
    "scrolled": true
   },
   "outputs": [
    {
     "name": "stdout",
     "output_type": "stream",
     "text": [
      "iteration: 100\n",
      "iteration: 101\n",
      "iteration: 102\n",
      "iteration: 103\n",
      "iteration: 104\n",
      "iteration: 105\n",
      "iteration: 106\n",
      "iteration: 107\n",
      "iteration: 108\n",
      "iteration: 109\n",
      "iteration: 110\n",
      "iteration: 111\n",
      "iteration: 112\n",
      "iteration: 113\n",
      "iteration: 114\n",
      "iteration: 115\n",
      "iteration: 116\n",
      "iteration: 117\n",
      "iteration: 118\n",
      "iteration: 119\n",
      "iteration: 120\n",
      "iteration: 121\n",
      "iteration: 122\n",
      "iteration: 123\n",
      "iteration: 124\n",
      "iteration: 125\n",
      "iteration: 126\n",
      "iteration: 127\n",
      "iteration: 128\n",
      "iteration: 129\n",
      "iteration: 130\n",
      "iteration: 131\n",
      "iteration: 132\n",
      "iteration: 133\n",
      "iteration: 134\n",
      "iteration: 135\n",
      "iteration: 136\n",
      "iteration: 137\n",
      "iteration: 138\n",
      "iteration: 139\n",
      "iteration: 140\n",
      "iteration: 141\n",
      "iteration: 142\n",
      "iteration: 143\n",
      "iteration: 144\n",
      "iteration: 145\n",
      "iteration: 146\n",
      "iteration: 147\n",
      "iteration: 148\n",
      "iteration: 149\n",
      "iteration: 150\n",
      "iteration: 151\n",
      "iteration: 152\n",
      "iteration: 153\n",
      "iteration: 154\n",
      "iteration: 155\n",
      "iteration: 156\n",
      "iteration: 157\n",
      "iteration: 158\n",
      "iteration: 159\n",
      "iteration: 160\n",
      "iteration: 161\n",
      "iteration: 162\n",
      "iteration: 163\n",
      "iteration: 164\n",
      "iteration: 165\n",
      "iteration: 166\n",
      "iteration: 167\n",
      "iteration: 168\n",
      "iteration: 169\n",
      "iteration: 170\n",
      "iteration: 171\n",
      "iteration: 172\n",
      "iteration: 173\n",
      "iteration: 174\n",
      "iteration: 175\n",
      "iteration: 176\n",
      "iteration: 177\n",
      "iteration: 178\n",
      "iteration: 179\n",
      "iteration: 180\n",
      "iteration: 181\n",
      "iteration: 182\n",
      "iteration: 183\n",
      "iteration: 184\n",
      "iteration: 185\n",
      "iteration: 186\n",
      "iteration: 187\n",
      "iteration: 188\n",
      "iteration: 189\n",
      "iteration: 190\n",
      "iteration: 191\n",
      "iteration: 192\n",
      "iteration: 193\n",
      "iteration: 194\n",
      "iteration: 195\n",
      "iteration: 196\n",
      "iteration: 197\n",
      "iteration: 198\n",
      "iteration: 199\n",
      "iteration: 200\n",
      "iteration: 201\n",
      "iteration: 202\n",
      "iteration: 203\n",
      "iteration: 204\n",
      "iteration: 205\n",
      "iteration: 206\n",
      "iteration: 207\n",
      "iteration: 208\n",
      "iteration: 209\n",
      "iteration: 210\n",
      "iteration: 211\n",
      "iteration: 212\n",
      "iteration: 213\n",
      "iteration: 214\n",
      "iteration: 215\n",
      "iteration: 216\n",
      "iteration: 217\n",
      "iteration: 218\n",
      "iteration: 219\n",
      "iteration: 220\n",
      "iteration: 221\n",
      "iteration: 222\n",
      "iteration: 223\n",
      "iteration: 224\n",
      "iteration: 225\n",
      "iteration: 226\n",
      "iteration: 227\n",
      "iteration: 228\n",
      "iteration: 229\n",
      "iteration: 230\n",
      "iteration: 231\n",
      "iteration: 232\n",
      "iteration: 233\n",
      "iteration: 234\n",
      "iteration: 235\n",
      "iteration: 236\n",
      "iteration: 237\n",
      "iteration: 238\n",
      "iteration: 239\n",
      "iteration: 240\n",
      "iteration: 241\n",
      "iteration: 242\n",
      "iteration: 243\n",
      "iteration: 244\n",
      "iteration: 245\n",
      "iteration: 246\n",
      "iteration: 247\n",
      "iteration: 248\n",
      "iteration: 249\n"
     ]
    }
   ],
   "source": [
    "record, sus, infected, immune, total, infant, agents = run_ecolab(env, agents, Niteration=[100, 250])\n",
    "\n",
    "\n"
   ]
  },
  {
   "cell_type": "code",
   "execution_count": 4,
   "id": "efb91027",
   "metadata": {},
   "outputs": [
    {
     "name": "stdout",
     "output_type": "stream",
     "text": [
      "iteration: 250\n",
      "iteration: 251\n",
      "iteration: 252\n",
      "iteration: 253\n",
      "iteration: 254\n",
      "iteration: 255\n",
      "iteration: 256\n",
      "iteration: 257\n",
      "iteration: 258\n",
      "iteration: 259\n",
      "iteration: 260\n",
      "iteration: 261\n",
      "iteration: 262\n",
      "iteration: 263\n",
      "iteration: 264\n",
      "iteration: 265\n",
      "iteration: 266\n",
      "iteration: 267\n",
      "iteration: 268\n",
      "iteration: 269\n",
      "iteration: 270\n",
      "iteration: 271\n",
      "iteration: 272\n",
      "iteration: 273\n",
      "iteration: 274\n",
      "iteration: 275\n",
      "iteration: 276\n",
      "iteration: 277\n",
      "iteration: 278\n",
      "iteration: 279\n",
      "iteration: 280\n",
      "iteration: 281\n",
      "iteration: 282\n",
      "iteration: 283\n",
      "iteration: 284\n",
      "iteration: 285\n",
      "iteration: 286\n",
      "iteration: 287\n",
      "iteration: 288\n",
      "iteration: 289\n",
      "iteration: 290\n",
      "iteration: 291\n",
      "iteration: 292\n",
      "iteration: 293\n",
      "iteration: 294\n",
      "iteration: 295\n",
      "iteration: 296\n",
      "iteration: 297\n",
      "iteration: 298\n",
      "iteration: 299\n"
     ]
    }
   ],
   "source": [
    "for i in range(100):\n",
    "    infected_adult = Rabbit(age = np.random.randint(90,300), position = env.get_random_location(), infected=True)   \n",
    "    agents.append(infected_adult)\n",
    "\n",
    "# The start time must be consistent with the last end time\n",
    "record, sus, infected, immune, total, infant, agents = run_ecolab(env, agents, Niteration=[250, 300],sus=sus,infected=infected, immune=immune, total=total, infant=infant)\n"
   ]
  },
  {
   "cell_type": "code",
   "execution_count": 5,
   "id": "459abb98",
   "metadata": {
    "ExecuteTime": {
     "end_time": "2022-03-24T20:58:20.142550Z",
     "start_time": "2022-03-24T20:58:19.979013Z"
    },
    "scrolled": true
   },
   "outputs": [
    {
     "data": {
      "image/png": "[encoded data removed]",
      "text/plain": [
       "<Figure size 432x288 with 1 Axes>"
      ]
     },
     "metadata": {
      "needs_background": "light"
     },
     "output_type": "display_data"
    }
   ],
   "source": [
    "%matplotlib inline\n",
    "\n",
    "fig, ax = plt.subplots()\n",
    "ax.plot(total, label='Total')\n",
    "ax.plot(immune, label='Immune')\n",
    "ax.plot(sus, label='Susceptible')\n",
    "#ax.plot(infant, label='Infants')\n",
    "ax.plot(infected, label='Infected')\n",
    "#ax.plot(male, label='Male')\n",
    "#ax.plot(female, label='Female')\n",
    "\n",
    "\n",
    "leg = ax.legend();"
   ]
  },
  {
   "cell_type": "code",
   "execution_count": 6,
   "id": "18b1a598",
   "metadata": {
    "ExecuteTime": {
     "end_time": "2022-03-24T20:54:17.618388Z",
     "start_time": "2022-03-24T20:54:17.603279Z"
    }
   },
   "outputs": [
    {
     "ename": "IndentationError",
     "evalue": "unexpected indent (244214660.py, line 2)",
     "output_type": "error",
     "traceback": [
      "\u001b[0;36m  File \u001b[0;32m\"/var/folders/xy/dklb0sp55rq2xh7b_c296kg40000gn/T/ipykernel_56779/244214660.py\"\u001b[0;36m, line \u001b[0;32m2\u001b[0m\n\u001b[0;31m    \"\"\"\u001b[0m\n\u001b[0m    ^\u001b[0m\n\u001b[0;31mIndentationError\u001b[0m\u001b[0;31m:\u001b[0m unexpected indent\n"
     ]
    }
   ],
   "source": [
    "#def draw_animation(fig,record,fps=20,saveto=None):\n",
    "    \"\"\"\n",
    "    Draw the animation for the content of record. This doesn't use the draw\n",
    "    functions of the classes.\n",
    "    - fig figure to draw to\n",
    "    - record = the data to draw\n",
    "    - fps = frames per second\n",
    "    - saveto = where to save it to\n",
    "    \"\"\"\n",
    "    #rc('animation', html='html5')\n",
    "    if len(record)==0: return None\n",
    "\n",
    "    im = plt.imshow(np.zeros_like(record[0]['infected agents']), interpolation='none', aspect='auto', vmin=0, vmax=3, cmap='gray')\n",
    "    ax = plt.gca()\n",
    "\n",
    "    #foxesplot = ax.plot(np.zeros(1),np.zeros(1),'bo',markersize=10)\n",
    "    rabbitsplot = ax.plot(np.zeros(1),np.zeros(1),'yx',markersize=10,mew=3)\n",
    "\n",
    "    def animate_func(i):\n",
    "            im.set_array(record[i]['infected agents'])\n",
    "            ags = record[i]['total']\n",
    "            if len(ags)==0:\n",
    "                rabbitsplot[0].set_data([],[])\n",
    "                #foxesplot[0].set_data([],[])\n",
    "                return\n",
    "            coords = ags[ags[:,-1].astype(bool),0:2]\n",
    "            rabbitsplot[0].set_data(coords[:,1],coords[:,0])\n",
    "            #coords = ags[~ags[:,-1].astype(bool),0:2]\n",
    "            #foxesplot[0].set_data(coords[:,1],coords[:,0])\n",
    "            #return [im]#,rabbits,foxes]\n",
    "\n",
    "    anim = animation.FuncAnimation(\n",
    "                                   fig, \n",
    "                                   animate_func, \n",
    "                                   frames = len(record),\n",
    "                                   interval = 1000 / fps, repeat=False # in ms\n",
    "                                   )\n",
    "    if saveto is not None: anim.save(saveto, fps=fps, extra_args=['-vcodec', 'libx264']) \n",
    "    from IPython.display import HTML\n",
    "    return HTML(anim.to_jshtml())"
   ]
  },
  {
   "cell_type": "code",
   "execution_count": null,
   "id": "dede2f61",
   "metadata": {
    "ExecuteTime": {
     "end_time": "2022-03-24T20:54:18.797807Z",
     "start_time": "2022-03-24T20:54:18.753598Z"
    }
   },
   "outputs": [],
   "source": [
    "#%matplotlib notebook \n",
    "#fig1 = plt.figure( figsize=(8,8) )\n",
    "#draw_animation(fig1, record[::5],5,saveto='test_anim.mp4') #draw every 5th frame"
   ]
  },
  {
   "cell_type": "code",
   "execution_count": null,
   "id": "5743ca63",
   "metadata": {},
   "outputs": [],
   "source": [
    "len(agents)"
   ]
  }
 ],
 "metadata": {
  "kernelspec": {
   "display_name": "Python 3 (ipykernel)",
   "language": "python",
   "name": "python3"
  },
  "language_info": {
   "codemirror_mode": {
    "name": "ipython",
    "version": 3
   },
   "file_extension": ".py",
   "mimetype": "text/x-python",
   "name": "python",
   "nbconvert_exporter": "python",
   "pygments_lexer": "ipython3",
   "version": "3.9.7"
  }
 },
 "nbformat": 4,
 "nbformat_minor": 5
}
