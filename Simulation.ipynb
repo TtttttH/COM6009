{
 "cells": [
  {
   "cell_type": "code",
   "execution_count": 1,
   "id": "879f0f76",
   "metadata": {
    "ExecuteTime": {
     "end_time": "2022-03-24T20:57:28.881613Z",
     "start_time": "2022-03-24T20:57:27.888994Z"
    }
   },
   "outputs": [],
   "source": [
    "# when you change the code of .py document in the ecolab package, you have to restart the kernel of jupyter notebook and \n",
    "# run the below import code again to make sure the newest change involved.\n",
    "\n",
    "import numpy as np\n",
    "import numba\n",
    "from ecolab import run_ecolab\n",
    "from ecolab.environment import Environment\n",
    "from ecolab.agents import Rabbit, RHD_Status\n",
    "import warnings\n",
    "warnings.filterwarnings(\"ignore\")\n",
    "\n",
    "\n",
    "import matplotlib\n",
    "import matplotlib.pyplot as plt\n",
    "\n",
    "\n"
   ]
  },
  {
   "cell_type": "code",
   "execution_count": 2,
   "id": "b46faa0d",
   "metadata": {
    "ExecuteTime": {
     "end_time": "2022-03-24T20:57:28.904613Z",
     "start_time": "2022-03-24T20:57:28.882761Z"
    }
   },
   "outputs": [],
   "source": [
    "# create the environment\n",
    "env = Environment(shape = [10,10])\n",
    "\n",
    "#create agents(infants and adults)\n",
    "Ninfants = 10\n",
    "Nadults = 300\n",
    "Infected_Adults = 10\n",
    "agents = []\n",
    "\n",
    "for i in range(Ninfants):\n",
    "    infant = Rabbit(age = np.random.randint(0,90), position = env.get_random_location()) ## age < 90 => infants\n",
    "    agents.append(infant)\n",
    "for i in range(Nadults):\n",
    "    adult = Rabbit(age = np.random.randint(90,300), position = env.get_random_location())\n",
    "    agents.append(adult)\n",
    "for i in range(Infected_Adults):\n",
    "    infected_adult = Rabbit(age = np.random.randint(90,300), position = env.get_random_location(), infected=True)   \n",
    "    agents.append(infected_adult)\n"
   ]
  },
  {
   "cell_type": "code",
   "execution_count": 3,
   "id": "d936539f",
   "metadata": {
    "ExecuteTime": {
     "end_time": "2022-03-24T20:58:19.977872Z",
     "start_time": "2022-03-24T20:57:29.143895Z"
    },
    "scrolled": true
   },
   "outputs": [
    {
     "name": "stdout",
     "output_type": "stream",
     "text": [
      "iteration: 0\n",
      "iteration: 1\n",
      "iteration: 2\n",
      "iteration: 3\n",
      "iteration: 4\n",
      "iteration: 5\n",
      "iteration: 6\n",
      "iteration: 7\n",
      "iteration: 8\n",
      "iteration: 9\n",
      "iteration: 10\n",
      "iteration: 11\n",
      "iteration: 12\n",
      "iteration: 13\n",
      "iteration: 14\n",
      "iteration: 15\n",
      "iteration: 16\n",
      "iteration: 17\n",
      "iteration: 18\n",
      "iteration: 19\n",
      "iteration: 20\n",
      "iteration: 21\n",
      "iteration: 22\n",
      "iteration: 23\n",
      "iteration: 24\n",
      "iteration: 25\n",
      "iteration: 26\n",
      "iteration: 27\n",
      "iteration: 28\n",
      "iteration: 29\n",
      "iteration: 30\n",
      "iteration: 31\n",
      "iteration: 32\n",
      "iteration: 33\n",
      "iteration: 34\n",
      "iteration: 35\n",
      "iteration: 36\n",
      "iteration: 37\n",
      "iteration: 38\n",
      "iteration: 39\n",
      "iteration: 40\n",
      "iteration: 41\n",
      "iteration: 42\n",
      "iteration: 43\n",
      "iteration: 44\n",
      "iteration: 45\n",
      "iteration: 46\n",
      "iteration: 47\n",
      "iteration: 48\n",
      "iteration: 49\n",
      "iteration: 50\n",
      "iteration: 51\n",
      "iteration: 52\n",
      "iteration: 53\n",
      "iteration: 54\n",
      "iteration: 55\n",
      "iteration: 56\n",
      "iteration: 57\n",
      "iteration: 58\n",
      "iteration: 59\n",
      "iteration: 60\n",
      "iteration: 61\n",
      "iteration: 62\n",
      "iteration: 63\n",
      "iteration: 64\n",
      "iteration: 65\n",
      "iteration: 66\n",
      "iteration: 67\n",
      "iteration: 68\n",
      "iteration: 69\n",
      "iteration: 70\n",
      "iteration: 71\n",
      "iteration: 72\n",
      "iteration: 73\n",
      "iteration: 74\n",
      "iteration: 75\n",
      "iteration: 76\n",
      "iteration: 77\n",
      "iteration: 78\n",
      "iteration: 79\n",
      "iteration: 80\n",
      "iteration: 81\n",
      "iteration: 82\n",
      "iteration: 83\n",
      "iteration: 84\n",
      "iteration: 85\n",
      "iteration: 86\n",
      "iteration: 87\n",
      "iteration: 88\n",
      "iteration: 89\n",
      "iteration: 90\n",
      "iteration: 91\n",
      "iteration: 92\n",
      "iteration: 93\n",
      "iteration: 94\n",
      "iteration: 95\n",
      "iteration: 96\n",
      "iteration: 97\n",
      "iteration: 98\n",
      "iteration: 99\n",
      "iteration: 100\n",
      "iteration: 101\n",
      "iteration: 102\n",
      "iteration: 103\n",
      "iteration: 104\n",
      "iteration: 105\n",
      "iteration: 106\n",
      "iteration: 107\n",
      "iteration: 108\n",
      "iteration: 109\n",
      "iteration: 110\n",
      "iteration: 111\n",
      "iteration: 112\n",
      "iteration: 113\n",
      "iteration: 114\n",
      "iteration: 115\n",
      "iteration: 116\n",
      "iteration: 117\n",
      "iteration: 118\n",
      "iteration: 119\n",
      "iteration: 120\n",
      "iteration: 121\n",
      "iteration: 122\n",
      "iteration: 123\n",
      "iteration: 124\n",
      "iteration: 125\n",
      "iteration: 126\n",
      "iteration: 127\n",
      "iteration: 128\n",
      "iteration: 129\n",
      "iteration: 130\n",
      "iteration: 131\n",
      "iteration: 132\n",
      "iteration: 133\n",
      "iteration: 134\n",
      "iteration: 135\n",
      "iteration: 136\n",
      "iteration: 137\n",
      "iteration: 138\n",
      "iteration: 139\n",
      "iteration: 140\n",
      "iteration: 141\n",
      "iteration: 142\n",
      "iteration: 143\n",
      "iteration: 144\n",
      "iteration: 145\n",
      "iteration: 146\n",
      "iteration: 147\n",
      "iteration: 148\n",
      "iteration: 149\n",
      "iteration: 150\n",
      "iteration: 151\n",
      "iteration: 152\n",
      "iteration: 153\n",
      "iteration: 154\n",
      "iteration: 155\n",
      "iteration: 156\n",
      "iteration: 157\n",
      "iteration: 158\n",
      "iteration: 159\n",
      "iteration: 160\n",
      "iteration: 161\n",
      "iteration: 162\n",
      "iteration: 163\n",
      "iteration: 164\n",
      "iteration: 165\n",
      "iteration: 166\n",
      "iteration: 167\n",
      "iteration: 168\n",
      "iteration: 169\n",
      "iteration: 170\n",
      "iteration: 171\n",
      "iteration: 172\n",
      "iteration: 173\n",
      "iteration: 174\n",
      "iteration: 175\n",
      "iteration: 176\n",
      "iteration: 177\n",
      "iteration: 178\n",
      "iteration: 179\n",
      "iteration: 180\n",
      "iteration: 181\n",
      "iteration: 182\n",
      "iteration: 183\n",
      "iteration: 184\n",
      "iteration: 185\n",
      "iteration: 186\n",
      "iteration: 187\n",
      "iteration: 188\n",
      "iteration: 189\n",
      "iteration: 190\n",
      "iteration: 191\n",
      "iteration: 192\n",
      "iteration: 193\n",
      "iteration: 194\n",
      "iteration: 195\n",
      "iteration: 196\n",
      "iteration: 197\n",
      "iteration: 198\n",
      "iteration: 199\n",
      "The running time of experiment: 77 seconds.\n"
     ]
    }
   ],
   "source": [
    "record, sus_num, infected_num, immune_num, total, infant_num, agents = run_ecolab(env, agents, \n",
    "                                                                                  Niteration=[0, 200], \n",
    "                                                                                  max_density=20)"
   ]
  },
  {
   "cell_type": "code",
   "execution_count": 4,
   "id": "cf0d9ffb",
   "metadata": {},
   "outputs": [],
   "source": [
    "# for i in range(100):\n",
    "#     infected_adult = Rabbit(age = np.random.randint(90,300), position = env.get_random_location(), infected=True)   \n",
    "#     agents.append(infected_adult)\n",
    "\n",
    "# # The start time must be consistent with the last end time\n",
    "# record, sus, infected, immune, total, infant, agents = run_ecolab(env, agents, Niteration=[250, 300],sus=sus,infected=infected, immune=immune, total=total, infant=infant)\n"
   ]
  },
  {
   "cell_type": "code",
   "execution_count": 5,
   "id": "459abb98",
   "metadata": {
    "ExecuteTime": {
     "end_time": "2022-03-24T20:58:20.142550Z",
     "start_time": "2022-03-24T20:58:19.979013Z"
    },
    "scrolled": true
   },
   "outputs": [
    {
     "data": {
      "image/png": "[encoded data removed]",
      "text/plain": [
       "<Figure size 432x288 with 1 Axes>"
      ]
     },
     "metadata": {
      "needs_background": "light"
     },
     "output_type": "display_data"
    }
   ],
   "source": [
    "%matplotlib inline\n",
    "\n",
    "fig, ax = plt.subplots()\n",
    "ax.plot(total, label='Total')\n",
    "ax.plot(immune_num, label='Immune')\n",
    "ax.plot(sus_num, label='Susceptible')\n",
    "ax.plot(infant_num, label='Infants')\n",
    "ax.plot(infected_num, label='Infected')\n",
    "#ax.plot(male, label='Male')\n",
    "#ax.plot(female, label='Female')\n",
    "\n",
    "\n",
    "leg = ax.legend();"
   ]
  },
  {
   "cell_type": "code",
   "execution_count": 6,
   "id": "18b1a598",
   "metadata": {
    "ExecuteTime": {
     "end_time": "2022-03-24T20:54:17.618388Z",
     "start_time": "2022-03-24T20:54:17.603279Z"
    }
   },
   "outputs": [],
   "source": [
    "def draw_animation(fig,record,fps=20,saveto=None):\n",
    "    \"\"\"\n",
    "    Draw the animation for the content of record. This doesn't use the draw\n",
    "    functions of the classes.\n",
    "    - fig figure to draw to\n",
    "    - record = the data to draw\n",
    "    - fps = frames per second\n",
    "    - saveto = where to save it to\n",
    "    \"\"\"\n",
    "    #rc('animation', html='html5')\n",
    "    if len(record)==0: return None\n",
    "\n",
    "    im = plt.imshow(np.zeros_like(sus), interpolation='none', aspect='auto', vmin=0, vmax=3, cmap='gray')\n",
    "    ax = plt.gca()\n",
    "\n",
    "    infectedplot = ax.plot(np.zeros(1),np.zeros(1),'bo',markersize=10)\n",
    "    immuneplot = ax.plot(np.zeros(1),np.zeros(1),'yx',markersize=10,mew=3)\n",
    "\n",
    "    def animate_func(i):\n",
    "            im.set_array(sus)\n",
    "            ags = sus\n",
    "            if len(ags)==0:\n",
    "                immuneplot[0].set_data([],[])\n",
    "                infectedplot[0].set_data([],[])\n",
    "                return\n",
    "            coords = ags[ags[:,-1].astype(bool),0:2]\n",
    "            immuneplot[0].set_data(coords[:,1],coords[:,0])\n",
    "            coords = ags[~ags[:,-1].astype(bool),0:2]\n",
    "            infectedplot[0].set_data(coords[:,1],coords[:,0])\n",
    "            #return [im]#,rabbits,foxes]\n",
    "\n",
    "    anim = animation.FuncAnimation(\n",
    "                                   fig, \n",
    "                                   animate_func, \n",
    "                                   frames = len(record),\n",
    "                                   interval = 1000 / fps, repeat=False # in ms\n",
    "                                   )\n",
    "    if saveto is not None: anim.save(saveto, fps=fps, extra_args=['-vcodec', 'libx264']) \n",
    "    from IPython.display import HTML\n",
    "    return HTML(anim.to_jshtml())"
   ]
  },
  {
   "cell_type": "code",
   "execution_count": 7,
   "id": "dede2f61",
   "metadata": {
    "ExecuteTime": {
     "end_time": "2022-03-24T20:54:18.797807Z",
     "start_time": "2022-03-24T20:54:18.753598Z"
    },
    "scrolled": true
   },
   "outputs": [],
   "source": [
    "# %matplotlib notebook \n",
    "# fig1 = plt.figure( figsize=(8,8) )\n",
    "# draw_animation(fig1, record[::5],5,saveto='test_anim.mp4') #draw every 5th frame"
   ]
  },
  {
   "cell_type": "code",
   "execution_count": 8,
   "id": "e57b5dba",
   "metadata": {},
   "outputs": [
    {
     "data": {
      "text/plain": [
       "array([8, 6])"
      ]
     },
     "execution_count": 8,
     "metadata": {},
     "output_type": "execute_result"
    }
   ],
   "source": [
    "rabbit2 = Rabbit(age = np.random.randint(90,300), position = env.get_random_location())\n",
    "rabbit3 = Rabbit(age = np.random.randint(0,90), position = env.get_random_location())\n",
    "test=[]\n",
    "test.append(rabbit2)\n",
    "test.append(rabbit3)\n",
    "test[0].position"
   ]
  },
  {
   "cell_type": "code",
   "execution_count": 9,
   "id": "7c7690a8",
   "metadata": {},
   "outputs": [],
   "source": [
    "test2 = test\n",
    "test2[0].age = 10"
   ]
  },
  {
   "cell_type": "code",
   "execution_count": 10,
   "id": "8980c3eb",
   "metadata": {},
   "outputs": [],
   "source": [
    "rabbit2.move(env)"
   ]
  },
  {
   "cell_type": "code",
   "execution_count": 11,
   "id": "90f6451c",
   "metadata": {},
   "outputs": [
    {
     "data": {
      "text/plain": [
       "array([9., 4.])"
      ]
     },
     "execution_count": 11,
     "metadata": {},
     "output_type": "execute_result"
    }
   ],
   "source": [
    "test[0].position"
   ]
  },
  {
   "cell_type": "code",
   "execution_count": 12,
   "id": "58adc328",
   "metadata": {},
   "outputs": [
    {
     "data": {
      "text/plain": [
       "array([9., 4.])"
      ]
     },
     "execution_count": 12,
     "metadata": {},
     "output_type": "execute_result"
    }
   ],
   "source": [
    "rabbit2.position"
   ]
  },
  {
   "cell_type": "code",
   "execution_count": 13,
   "id": "a472dc90",
   "metadata": {},
   "outputs": [],
   "source": [
    "def func1(agents):\n",
    "    agents.append(Rabbit(age = np.random.randint(90,300), position = env.get_random_location()))"
   ]
  },
  {
   "cell_type": "code",
   "execution_count": 14,
   "id": "8fa7fbec",
   "metadata": {},
   "outputs": [],
   "source": [
    "func1(test)"
   ]
  },
  {
   "cell_type": "code",
   "execution_count": 15,
   "id": "a4cae296",
   "metadata": {},
   "outputs": [
    {
     "data": {
      "text/plain": [
       "[<ecolab.agents.Rabbit at 0x7fb8e1a6eb20>,\n",
       " <ecolab.agents.Rabbit at 0x7fb8f037ad60>,\n",
       " <ecolab.agents.Rabbit at 0x7fb8e1a6ee50>]"
      ]
     },
     "execution_count": 15,
     "metadata": {},
     "output_type": "execute_result"
    }
   ],
   "source": [
    "test"
   ]
  }
 ],
 "metadata": {
  "kernelspec": {
   "display_name": "Python 3 (ipykernel)",
   "language": "python",
   "name": "python3"
  },
  "language_info": {
   "codemirror_mode": {
    "name": "ipython",
    "version": 3
   },
   "file_extension": ".py",
   "mimetype": "text/x-python",
   "name": "python",
   "nbconvert_exporter": "python",
   "pygments_lexer": "ipython3",
   "version": "3.9.7"
  }
 },
 "nbformat": 4,
 "nbformat_minor": 5
}
