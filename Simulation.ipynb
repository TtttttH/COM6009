{
 "cells": [
  {
   "cell_type": "code",
   "execution_count": 1,
   "id": "879f0f76",
   "metadata": {
    "ExecuteTime": {
     "end_time": "2022-03-30T10:11:50.024950Z",
     "start_time": "2022-03-30T10:11:48.516825Z"
    }
   },
   "outputs": [],
   "source": [
    "# when you change the code of .py document in the ecolab package, you have to restart the kernel of jupyter notebook and \n",
    "# run the below import code again to make sure the newest change involved.\n",
    "\n",
    "import numpy as np\n",
    "import numba\n",
    "from ecolab import run_ecolab\n",
    "from ecolab.environment import Environment\n",
    "from ecolab.agents import Rabbit, RHD_Status\n",
    "import warnings\n",
    "warnings.filterwarnings(\"ignore\")\n",
    "from math import sqrt\n",
    "import matplotlib\n",
    "import matplotlib.pyplot as plt\n",
    "import seaborn as sns\n",
    "import pandas as pd\n",
    "\n"
   ]
  },
  {
   "cell_type": "code",
   "execution_count": 2,
   "id": "c435244c",
   "metadata": {
    "ExecuteTime": {
     "end_time": "2022-03-30T10:11:50.028416Z",
     "start_time": "2022-03-30T10:11:50.026128Z"
    }
   },
   "outputs": [],
   "source": [
    "def average_arrays(arr, runs):\n",
    "    \n",
    "    avg_array = (arr[0] + arr[1] + arr[2] + arr[3] + arr[4] + arr[5] + arr[6] + arr[7] + arr[8] + arr[9])/runs\n",
    "    \n",
    "    return avg_array"
   ]
  },
  {
   "cell_type": "code",
   "execution_count": 3,
   "id": "ac7bc99c",
   "metadata": {
    "ExecuteTime": {
     "end_time": "2022-03-30T10:11:50.030843Z",
     "start_time": "2022-03-30T10:11:50.029303Z"
    }
   },
   "outputs": [],
   "source": [
    "# create the environment\n",
    "env = Environment(shape = [10,10])"
   ]
  },
  {
   "cell_type": "code",
   "execution_count": 4,
   "id": "752bc30c",
   "metadata": {
    "ExecuteTime": {
     "end_time": "2022-03-30T10:11:50.126383Z",
     "start_time": "2022-03-30T10:11:50.118757Z"
    }
   },
   "outputs": [],
   "source": [
    "def generate_agents(Total_agents = 100, prop_infants=0.1, prop_adults = 0.9, prop_infected = 0.1):\n",
    "    ''' A function to output agents based on user defined variables\n",
    "    Total_agents - Total number of agents\n",
    "    prop_infants - Proportion of infants based on total agents\n",
    "    prop_adults - Proportion of adults based on total agents\n",
    "    prop_infected - Proportion of infected adults based on total number of adults\n",
    "    Output: a list of agents'''\n",
    "    \n",
    "    N_infants = round(prop_infants*Total_agents)\n",
    "    N_sus_adults = round(prop_adults*(Total_agents-N_infants))\n",
    "    N_infected_adults = round(prop_infected*prop_adults*Total_agents)\n",
    "    agents = []\n",
    "    \n",
    "    for i in range(N_infants):\n",
    "        infant = Rabbit(age = np.random.randint(0,90), position = env.get_random_location()) ## age < 90 => infants\n",
    "        agents.append(infant)\n",
    "    for i in range(N_sus_adults):\n",
    "        adult = Rabbit(age = np.random.randint(90,300), position = env.get_random_location())\n",
    "        agents.append(adult)\n",
    "    for i in range(N_infected_adults):\n",
    "        infected_adult = Rabbit(age = np.random.randint(90,300), position = env.get_random_location(), infected=True)\n",
    "        agents.append(infected_adult)\n",
    "        \n",
    "    return agents"
   ]
  },
  {
   "cell_type": "code",
   "execution_count": 37,
   "id": "0298ab7a",
   "metadata": {
    "ExecuteTime": {
     "end_time": "2022-03-30T12:21:38.779049Z",
     "start_time": "2022-03-30T12:21:38.763541Z"
    }
   },
   "outputs": [],
   "source": [
    "def batch_simulation(Total_agents=100, prop_infants=0.1, prop_adults=0.9, prop_infected=0.1, num_model_runs=10, max_density=10, transmission=2, CARCASS_INFECTION_PROB=0.2):\n",
    "    ''' A function to run the ecolab simulation several times to account for stochasticity\n",
    "    It outputs the mean, standard deviation, and confidence interval of the proportion of infected rabbits '''\n",
    "    \n",
    "    batch_mean_infected = []\n",
    "    \n",
    "    for i in range(num_model_runs):\n",
    "        agents = generate_agents(Total_agents=Total_agents, prop_infants=prop_infants,prop_adults=prop_adults,prop_infected=prop_infected)\n",
    "        record2, sus, infected, immune, total, infant, agents = run_ecolab(env, agents, Niteration=[0, 365], max_density = max_density, transmission=transmission, CARCASS_INFECTION_PROB=CARCASS_INFECTION_PROB)\n",
    "        batch_prop_infected = np.divide(infected, total)\n",
    "        batch_mean_infected.append(batch_prop_infected)\n",
    "        \n",
    "    mean_infected = np.mean(batch_mean_infected)\n",
    "    stdev_infected = np.std(batch_mean_infected)\n",
    "    ci_infected = 1.96 * stdev_infected / sqrt(len(batch_mean_infected))\n",
    "    \n",
    "    average_batch_infected = average_arrays(batch_mean_infected, num_model_runs)\n",
    "    \n",
    "    return average_batch_infected, mean_infected, stdev_infected, ci_infected\n"
   ]
  },
  {
   "cell_type": "markdown",
   "id": "178b552c",
   "metadata": {},
   "source": [
    "## Carrying Capacity\n",
    "\n",
    "\n",
    "<li>Infection fixed at 2\n",
    "<li>Initial pop fixed at 50\n",
    "<li>Carcass infection prob fixed at 0.2"
   ]
  },
  {
   "cell_type": "code",
   "execution_count": 38,
   "id": "263ec61d",
   "metadata": {
    "ExecuteTime": {
     "end_time": "2022-03-30T12:23:38.373701Z",
     "start_time": "2022-03-30T12:21:42.391256Z"
    },
    "scrolled": true
   },
   "outputs": [
    {
     "name": "stdout",
     "output_type": "stream",
     "text": [
      "The mean proportion of infected rabbits with a maximum density of 5 is: 0.0534\n",
      "The standard deviation is: 0.0940\n",
      "It follows that the 95% confidence intervals are: -0.0049 and 0.1117\n"
     ]
    }
   ],
   "source": [
    "batch_mean_infected_5, mean_infected_5, stdev_infected_5, ci_infected_5 = batch_simulation(Total_agents = 50, prop_infants=0.1, prop_adults = 0.9, prop_infected = 0.1, num_model_runs = 10, max_density=5, transmission=2)\n",
    "lower_50, upper_50 = mean_infected_5-ci_infected_5, mean_infected_5+ci_infected_5\n",
    "print(f'The mean proportion of infected rabbits with a maximum density of 5 is: {mean_infected_5:.4f}')\n",
    "print(f'The standard deviation is: {stdev_infected_5:.4f}')\n",
    "print(f'It follows that the 95% confidence intervals are: {lower_50:.4f} and {upper_50:.4f}')\n"
   ]
  },
  {
   "cell_type": "code",
   "execution_count": 39,
   "id": "f9be8b1d",
   "metadata": {
    "ExecuteTime": {
     "end_time": "2022-03-30T12:25:42.278985Z",
     "start_time": "2022-03-30T12:23:38.374927Z"
    }
   },
   "outputs": [
    {
     "name": "stdout",
     "output_type": "stream",
     "text": [
      "The mean proportion of infected rabbits with a maximum density of 5 is: 0.0531\n",
      "The standard deviation is: 0.0925\n",
      "It follows that the 95% confidence intervals are: -0.0043 and 0.1104\n"
     ]
    }
   ],
   "source": [
    "batch_mean_infected_10, mean_infected_10, stdev_infected_10, ci_infected_10 = batch_simulation(Total_agents = 50, prop_infants=0.1, prop_adults = 0.9, prop_infected = 0.1, num_model_runs = 10, max_density=10)\n",
    "lower_50, upper_50 = mean_infected_10-ci_infected_10, mean_infected_10+ci_infected_10\n",
    "print(f'The mean proportion of infected rabbits with a maximum density of 5 is: {mean_infected_10:.4f}')\n",
    "print(f'The standard deviation is: {stdev_infected_10:.4f}')\n",
    "print(f'It follows that the 95% confidence intervals are: {lower_50:.4f} and {upper_50:.4f}')\n"
   ]
  },
  {
   "cell_type": "code",
   "execution_count": 40,
   "id": "1ececbfe",
   "metadata": {
    "ExecuteTime": {
     "end_time": "2022-03-30T12:27:53.752236Z",
     "start_time": "2022-03-30T12:25:42.280183Z"
    }
   },
   "outputs": [
    {
     "name": "stdout",
     "output_type": "stream",
     "text": [
      "The mean proportion of infected rabbits with a maximum density of 5 is: 0.0539\n",
      "The standard deviation is: 0.0933\n",
      "It follows that the 95% confidence intervals are: -0.0040 and 0.1117\n"
     ]
    }
   ],
   "source": [
    "batch_mean_infected_15, mean_infected_15, stdev_infected_15, ci_infected_15 = batch_simulation(Total_agents = 50, prop_infants=0.1, prop_adults = 0.9, prop_infected = 0.1, num_model_runs = 10, max_density=15)\n",
    "lower_50, upper_50 = mean_infected_15-ci_infected_15, mean_infected_15+ci_infected_15\n",
    "print(f'The mean proportion of infected rabbits with a maximum density of 5 is: {mean_infected_15:.4f}')\n",
    "print(f'The standard deviation is: {stdev_infected_15:.4f}')\n",
    "print(f'It follows that the 95% confidence intervals are: {lower_50:.4f} and {upper_50:.4f}')\n"
   ]
  },
  {
   "cell_type": "code",
   "execution_count": 41,
   "id": "c4fa39d5",
   "metadata": {
    "ExecuteTime": {
     "end_time": "2022-03-30T12:27:53.878909Z",
     "start_time": "2022-03-30T12:27:53.753799Z"
    }
   },
   "outputs": [
    {
     "data": {
      "text/plain": [
       "Text(0, 0.5, 'Mean proportion of infected rabbits')"
      ]
     },
     "execution_count": 41,
     "metadata": {},
     "output_type": "execute_result"
    },
    {
     "data": {
      "image/png": "[encoded data removed]",
      "text/plain": [
       "<Figure size 432x288 with 1 Axes>"
      ]
     },
     "metadata": {
      "needs_background": "light"
     },
     "output_type": "display_data"
    }
   ],
   "source": [
    "xlabels = ['5', '10', '15']\n",
    "g = sns.barplot(data = [batch_mean_infected_5, batch_mean_infected_10, batch_mean_infected_15])\n",
    "#g.set_xticks(xlabels)\n",
    "g.set_xticklabels(xlabels)\n",
    "g.set_xlabel(\"Carrying capacity of grid square\", fontsize = 12)\n",
    "g.set_ylabel(\"Mean proportion of infected rabbits\", fontsize = 11)"
   ]
  },
  {
   "cell_type": "markdown",
   "id": "971494c3",
   "metadata": {},
   "source": [
    "We should look to test whether the means under the different initial populations are statistically equal to each other\n",
    "\n",
    "H_0: The two sample means are equal\n",
    "\n",
    "H_a: The two sample means are not equal"
   ]
  },
  {
   "cell_type": "code",
   "execution_count": null,
   "id": "627ecae8",
   "metadata": {
    "ExecuteTime": {
     "end_time": "2022-03-30T09:48:50.966416Z",
     "start_time": "2022-03-30T09:48:50.954041Z"
    }
   },
   "outputs": [],
   "source": [
    "import scipy.stats as stats\n",
    "t, p = stats.ttest_ind_from_stats(mean_infected_5, stdev_infected_5, 10, mean_infected_10, stdev_infected_10, 10, equal_var=False)\n",
    "t, p\n"
   ]
  },
  {
   "cell_type": "markdown",
   "id": "cca7b069",
   "metadata": {},
   "source": [
    "The p-value is greater than alpha of 0.05 (95% confidence) therefore we fail to reject the null hypothesis. There is no sufficient evidence to conclude that at initial populations of 50 and 100, their proportions of infected rabbits are different"
   ]
  },
  {
   "cell_type": "code",
   "execution_count": null,
   "id": "5dcac2c4",
   "metadata": {
    "ExecuteTime": {
     "end_time": "2022-03-30T09:48:51.795500Z",
     "start_time": "2022-03-30T09:48:51.787099Z"
    }
   },
   "outputs": [],
   "source": [
    "t1,p1 = stats.ttest_ind_from_stats(mean_infected_10, stdev_infected_10, 10, mean_infected_15, stdev_infected_15, 10, equal_var=False)\n",
    "t1,p1\n"
   ]
  },
  {
   "cell_type": "code",
   "execution_count": null,
   "id": "def4b89c",
   "metadata": {
    "ExecuteTime": {
     "end_time": "2022-03-30T09:48:53.946008Z",
     "start_time": "2022-03-30T09:48:53.936470Z"
    }
   },
   "outputs": [],
   "source": [
    "t2,p2 = stats.ttest_ind_from_stats(mean_infected_5, stdev_infected_5, 10, mean_infected_15, stdev_infected_15, 10, equal_var=False)\n",
    "t2,p2\n"
   ]
  },
  {
   "cell_type": "markdown",
   "id": "4a7be51c",
   "metadata": {},
   "source": [
    "## Infection Rate\n",
    "\n",
    "<li>Initial pop fixed at 50\n",
    "<li>Carrying capacity fixed at 10\n",
    "<li>Carcass infection prob fixed at 0.2"
   ]
  },
  {
   "cell_type": "code",
   "execution_count": 42,
   "id": "41367e20",
   "metadata": {
    "ExecuteTime": {
     "end_time": "2022-03-30T12:29:53.748915Z",
     "start_time": "2022-03-30T12:27:53.879998Z"
    }
   },
   "outputs": [
    {
     "name": "stdout",
     "output_type": "stream",
     "text": [
      "The mean proportion of infected rabbits with a maximum density of 5 is: 0.0537\n",
      "The standard deviation is: 0.0899\n",
      "It follows that the 95% confidence intervals are: -0.0020 and 0.1094\n"
     ]
    }
   ],
   "source": [
    "batch_mean_infected_2, mean_infected_2, stdev_infected_2, ci_infected_2 = batch_simulation(Total_agents = 50, prop_infants=0.1, prop_adults = 0.9, prop_infected = 0.1, num_model_runs = 10, max_density=10)\n",
    "lower_50, upper_50 = mean_infected_2-ci_infected_2, mean_infected_2+ci_infected_2\n",
    "print(f'The mean proportion of infected rabbits with a maximum density of 5 is: {mean_infected_2:.4f}')\n",
    "print(f'The standard deviation is: {stdev_infected_2:.4f}')\n",
    "print(f'It follows that the 95% confidence intervals are: {lower_50:.4f} and {upper_50:.4f}')\n"
   ]
  },
  {
   "cell_type": "code",
   "execution_count": 43,
   "id": "de2006ec",
   "metadata": {
    "ExecuteTime": {
     "end_time": "2022-03-30T12:31:53.517895Z",
     "start_time": "2022-03-30T12:29:53.750391Z"
    }
   },
   "outputs": [
    {
     "name": "stdout",
     "output_type": "stream",
     "text": [
      "The mean proportion of infected rabbits with a maximum density of 5 is: 0.0532\n",
      "The standard deviation is: 0.0910\n",
      "It follows that the 95% confidence intervals are: -0.0032 and 0.1097\n"
     ]
    }
   ],
   "source": [
    "batch_mean_infected_1, mean_infected_1, stdev_infected_1, ci_infected_1 = batch_simulation(Total_agents = 50, prop_infants=0.1, prop_adults = 0.9, prop_infected = 0.1, num_model_runs = 10, max_density=10, transmission=1)\n",
    "lower_50, upper_50 = mean_infected_1-ci_infected_1, mean_infected_1+ci_infected_1\n",
    "print(f'The mean proportion of infected rabbits with a maximum density of 5 is: {mean_infected_1:.4f}')\n",
    "print(f'The standard deviation is: {stdev_infected_1:.4f}')\n",
    "print(f'It follows that the 95% confidence intervals are: {lower_50:.4f} and {upper_50:.4f}')\n"
   ]
  },
  {
   "cell_type": "code",
   "execution_count": 44,
   "id": "53fc8428",
   "metadata": {
    "ExecuteTime": {
     "end_time": "2022-03-30T12:31:53.630162Z",
     "start_time": "2022-03-30T12:31:53.518922Z"
    }
   },
   "outputs": [
    {
     "data": {
      "text/plain": [
       "Text(0, 0.5, 'Mean proportion of infected rabbits')"
      ]
     },
     "execution_count": 44,
     "metadata": {},
     "output_type": "execute_result"
    },
    {
     "data": {
      "image/png": "[encoded data removed]",
      "text/plain": [
       "<Figure size 432x288 with 1 Axes>"
      ]
     },
     "metadata": {
      "needs_background": "light"
     },
     "output_type": "display_data"
    }
   ],
   "source": [
    "xlabels = ['1:1', '1:2']\n",
    "g = sns.barplot(data = [batch_mean_infected_1, batch_mean_infected_2])\n",
    "#g.set_xticks(xlabels)\n",
    "g.set_xticklabels(xlabels)\n",
    "g.set_xlabel(\"Transmission rate of RVHD\", fontsize = 12)\n",
    "g.set_ylabel(\"Mean proportion of infected rabbits\", fontsize = 11)"
   ]
  },
  {
   "cell_type": "markdown",
   "id": "ba9817e4",
   "metadata": {},
   "source": [
    "## Carcass Infectivity\n",
    "\n",
    "<li>Initial pop fixed at 50\n",
    "<li>Transmission fixed at 1:2\n",
    "<li>Carry capacity fixed at 10\n"
   ]
  },
  {
   "cell_type": "code",
   "execution_count": 13,
   "id": "00e512fe",
   "metadata": {
    "ExecuteTime": {
     "end_time": "2022-03-30T10:24:54.538839Z",
     "start_time": "2022-03-30T10:23:06.813531Z"
    }
   },
   "outputs": [
    {
     "name": "stdout",
     "output_type": "stream",
     "text": [
      "The mean proportion of infected rabbits with a maximum density of 5 is: 0.0537\n",
      "The standard deviation is: 0.0988\n",
      "It follows that the 95% confidence intervals are: -0.0075 and 0.1149\n"
     ]
    }
   ],
   "source": [
    "batch_mean_infected_20, mean_infected_20, stdev_infected_20, ci_infected_20 = batch_simulation(Total_agents = 50, prop_infants=0.1, prop_adults = 0.9, prop_infected = 0.1, num_model_runs = 10, max_density=10, transmission=2, CARCASS_INFECTION_PROB=0.2)\n",
    "lower_50, upper_50 = mean_infected_20-ci_infected_20, mean_infected_20+ci_infected_20\n",
    "print(f'The mean proportion of infected rabbits with a maximum density of 5 is: {mean_infected_20:.4f}')\n",
    "print(f'The standard deviation is: {stdev_infected_20:.4f}')\n",
    "print(f'It follows that the 95% confidence intervals are: {lower_50:.4f} and {upper_50:.4f}')\n"
   ]
  },
  {
   "cell_type": "code",
   "execution_count": 14,
   "id": "4e118065",
   "metadata": {
    "ExecuteTime": {
     "end_time": "2022-03-30T10:26:56.957041Z",
     "start_time": "2022-03-30T10:24:54.539788Z"
    }
   },
   "outputs": [
    {
     "name": "stdout",
     "output_type": "stream",
     "text": [
      "The mean proportion of infected rabbits with a maximum density of 5 is: 0.0546\n",
      "The standard deviation is: 0.0876\n",
      "It follows that the 95% confidence intervals are: 0.0003 and 0.1089\n"
     ]
    }
   ],
   "source": [
    "batch_mean_infected_50, mean_infected_50, stdev_infected_50, ci_infected_50 = batch_simulation(Total_agents = 50, prop_infants=0.1, prop_adults = 0.9, prop_infected = 0.1, num_model_runs = 10, max_density=10, transmission=2, CARCASS_INFECTION_PROB=0.5)\n",
    "lower_50, upper_50 = mean_infected_50-ci_infected_50, mean_infected_50+ci_infected_50\n",
    "print(f'The mean proportion of infected rabbits with a maximum density of 5 is: {mean_infected_50:.4f}')\n",
    "print(f'The standard deviation is: {stdev_infected_50:.4f}')\n",
    "print(f'It follows that the 95% confidence intervals are: {lower_50:.4f} and {upper_50:.4f}')\n"
   ]
  },
  {
   "cell_type": "code",
   "execution_count": 15,
   "id": "5ad8c0c4",
   "metadata": {
    "ExecuteTime": {
     "end_time": "2022-03-30T10:29:07.743714Z",
     "start_time": "2022-03-30T10:26:56.957916Z"
    }
   },
   "outputs": [
    {
     "name": "stdout",
     "output_type": "stream",
     "text": [
      "The mean proportion of infected rabbits with a maximum density of 5 is: 0.0557\n",
      "The standard deviation is: 0.0949\n",
      "It follows that the 95% confidence intervals are: -0.0031 and 0.1146\n"
     ]
    }
   ],
   "source": [
    "batch_mean_infected_80, mean_infected_80, stdev_infected_80, ci_infected_80 = batch_simulation(Total_agents = 50, prop_infants=0.1, prop_adults = 0.9, prop_infected = 0.1, num_model_runs = 10, max_density=10, transmission=2, CARCASS_INFECTION_PROB=0.8)\n",
    "lower_50, upper_50 = mean_infected_80-ci_infected_80, mean_infected_80+ci_infected_80\n",
    "print(f'The mean proportion of infected rabbits with a maximum density of 5 is: {mean_infected_80:.4f}')\n",
    "print(f'The standard deviation is: {stdev_infected_80:.4f}')\n",
    "print(f'It follows that the 95% confidence intervals are: {lower_50:.4f} and {upper_50:.4f}')\n"
   ]
  },
  {
   "cell_type": "code",
   "execution_count": 23,
   "id": "6d3d8d8b",
   "metadata": {
    "ExecuteTime": {
     "end_time": "2022-03-30T11:10:11.097370Z",
     "start_time": "2022-03-30T11:10:10.947832Z"
    }
   },
   "outputs": [
    {
     "data": {
      "text/plain": [
       "Text(0, 0.5, 'Mean proportion of infected rabbits')"
      ]
     },
     "execution_count": 23,
     "metadata": {},
     "output_type": "execute_result"
    },
    {
     "data": {
      "image/png": "[encoded data removed]",
      "text/plain": [
       "<Figure size 432x288 with 1 Axes>"
      ]
     },
     "metadata": {
      "needs_background": "light"
     },
     "output_type": "display_data"
    }
   ],
   "source": [
    "xlabels = ['20%', '50%', '80%']\n",
    "g = sns.barplot(data = [batch_mean_infected_20, batch_mean_infected_50, batch_mean_infected_80])\n",
    "#g.set_xticks(xlabels)\n",
    "g.set_xticklabels(xlabels)\n",
    "g.set_xlabel(\"Transmission rate of RVHD through carcasses\", fontsize = 12)\n",
    "g.set_ylabel(\"Mean proportion of infected rabbits\", fontsize = 11)"
   ]
  },
  {
   "cell_type": "code",
   "execution_count": null,
   "id": "a90f5087",
   "metadata": {},
   "outputs": [],
   "source": []
  },
  {
   "cell_type": "code",
   "execution_count": null,
   "id": "1f858f2b",
   "metadata": {},
   "outputs": [],
   "source": [
    "sus, infected, immune, total, infant, agents = run_ecolab(env, agents_sample, Niteration=[0, 365], max_density = 10)"
   ]
  },
  {
   "cell_type": "code",
   "execution_count": null,
   "id": "459abb98",
   "metadata": {
    "ExecuteTime": {
     "end_time": "2022-03-29T21:06:14.333946Z",
     "start_time": "2022-03-29T21:06:14.224510Z"
    },
    "scrolled": true
   },
   "outputs": [],
   "source": [
    "%matplotlib inline\n",
    "\n",
    "fig, ax = plt.subplots()\n",
    "#ax.plot(total, label='Total')\n",
    "ax.plot(immune, label='Immune')\n",
    "ax.plot(sus, label='Susceptible')\n",
    "ax.plot(infected, label='Infected')\n",
    "plt.xlabel('Day')\n",
    "plt.ylabel('Number of Rabbits')\n",
    "\n",
    "leg = ax.legend();"
   ]
  },
  {
   "cell_type": "code",
   "execution_count": null,
   "id": "18b1a598",
   "metadata": {
    "ExecuteTime": {
     "end_time": "2022-03-24T20:54:17.618388Z",
     "start_time": "2022-03-24T20:54:17.603279Z"
    }
   },
   "outputs": [],
   "source": [
    "#def draw_animation(fig,record,fps=20,saveto=None):\n",
    "    \"\"\"\n",
    "    Draw the animation for the content of record. This doesn't use the draw\n",
    "    functions of the classes.\n",
    "    - fig figure to draw to\n",
    "    - record = the data to draw\n",
    "    - fps = frames per second\n",
    "    - saveto = where to save it to\n",
    "    \"\"\"\n",
    "    #rc('animation', html='html5')\n",
    "    if len(record)==0: return None\n",
    "\n",
    "    im = plt.imshow(np.zeros_like(record[0]['infected agents']), interpolation='none', aspect='auto', vmin=0, vmax=3, cmap='gray')\n",
    "    ax = plt.gca()\n",
    "\n",
    "    #foxesplot = ax.plot(np.zeros(1),np.zeros(1),'bo',markersize=10)\n",
    "    rabbitsplot = ax.plot(np.zeros(1),np.zeros(1),'yx',markersize=10,mew=3)\n",
    "\n",
    "    def animate_func(i):\n",
    "            im.set_array(record[i]['infected agents'])\n",
    "            ags = record[i]['total']\n",
    "            if len(ags)==0:\n",
    "                rabbitsplot[0].set_data([],[])\n",
    "                #foxesplot[0].set_data([],[])\n",
    "                return\n",
    "            coords = ags[ags[:,-1].astype(bool),0:2]\n",
    "            rabbitsplot[0].set_data(coords[:,1],coords[:,0])\n",
    "            #coords = ags[~ags[:,-1].astype(bool),0:2]\n",
    "            #foxesplot[0].set_data(coords[:,1],coords[:,0])\n",
    "            #return [im]#,rabbits,foxes]\n",
    "\n",
    "    anim = animation.FuncAnimation(\n",
    "                                   fig, \n",
    "                                   animate_func, \n",
    "                                   frames = len(record),\n",
    "                                   interval = 1000 / fps, repeat=False # in ms\n",
    "                                   )\n",
    "    if saveto is not None: anim.save(saveto, fps=fps, extra_args=['-vcodec', 'libx264']) \n",
    "    from IPython.display import HTML\n",
    "    return HTML(anim.to_jshtml())"
   ]
  },
  {
   "cell_type": "code",
   "execution_count": null,
   "id": "331f4435",
   "metadata": {},
   "outputs": [],
   "source": [
    "def batch_simulation2(Total_agents = 100, prop_infants=0.1, prop_adults = 0.9, prop_infected = 0.1, num_model_runs = 10):\n",
    "    N_infants = round(prop_infants*Total_agents)\n",
    "    N_sus_adults = round(prop_adults*(Total_agents-N_infants))\n",
    "    N_infected_adults = round(prop_infected*prop_adults*Total_agents)\n",
    "    agents = []\n",
    "    batch_mean_sus, batch_mean_infected, batch_mean_immune = [], [], []\n",
    "    batch_infant, batch_total = [], []\n",
    "    \n",
    "    for i in range(N_infants):\n",
    "        infant = Rabbit(age = np.random.randint(0,90), position = env.get_random_location()) ## age < 90 => infants\n",
    "        agents.append(infant)\n",
    "    for i in range(N_sus_adults):\n",
    "        adult = Rabbit(age = np.random.randint(90,300), position = env.get_random_location())\n",
    "        agents.append(adult)\n",
    "    for i in range(N_infected_adults):\n",
    "        infected_adult = Rabbit(age = np.random.randint(90,300), position = env.get_random_location(), infected=True)\n",
    "        agents.append(infected_adult)\n",
    "    \n",
    "    for i in range(num_model_runs):\n",
    "        sus, infected, immune, total, infant, agents = run_ecolab(env, agents, Niteration=[0, 365], max_density = 10)\n",
    "        batch_infant.append(infant)\n",
    "        batch_total.append(total)\n",
    "        batch_prop_sus, batch_prop_infected, batch_prop_immune = np.divide(sus, total), np.divide(infected, total), np.divide(immune, total)\n",
    "        batch_mean_sus.append(batch_prop_sus)\n",
    "        batch_mean_infected.append(batch_prop_infected)\n",
    "        batch_mean_immune.append(batch_prop_immune)\n",
    "        \n",
    "    mean_sus, mean_infected, mean_immune = np.mean(batch_mean_sus), np.mean(batch_mean_infected), np.mean(batch_mean_immune)\n",
    "    stdev_sus, stdev_infected, stdev_immune = np.std(batch_mean_sus), np.std(batch_mean_infected), np.std(batch_mean_immune)\n",
    "    ci_sus = 1.96 * stdev_sus / sqrt(len(batch_mean_sus))\n",
    "    ci_infected = 1.96 * stdev_infected / sqrt(len(batch_mean_infected))\n",
    "    ci_immune = 1.96 * stdev_immune / sqrt(len(batch_mean_immune))\n",
    "    \n",
    "    return batch_infant, batch_total, mean_sus, mean_infected, mean_immune, stdev_sus, stdev_infected, stdev_immune, ci_sus, ci_infected, ci_immune"
   ]
  }
 ],
 "metadata": {
  "kernelspec": {
   "display_name": "Python 3 (ipykernel)",
   "language": "python",
   "name": "python3"
  },
  "language_info": {
   "codemirror_mode": {
    "name": "ipython",
    "version": 3
   },
   "file_extension": ".py",
   "mimetype": "text/x-python",
   "name": "python",
   "nbconvert_exporter": "python",
   "pygments_lexer": "ipython3",
   "version": "3.7.11"
  }
 },
 "nbformat": 4,
 "nbformat_minor": 5
}
